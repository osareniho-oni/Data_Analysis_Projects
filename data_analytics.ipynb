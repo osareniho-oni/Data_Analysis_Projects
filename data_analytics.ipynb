{
 "cells": [
  {
   "cell_type": "markdown",
   "id": "b5f2c008-57b5-494a-a90b-cd137df2155e",
   "metadata": {},
   "source": [
    "# Data Analysis and Visualization "
   ]
  },
  {
   "cell_type": "markdown",
   "id": "5bc4ac45-f547-404a-9931-bf40b5d2cffe",
   "metadata": {},
   "source": [
    "## Tasks:\n",
    "You are given three csv files, you are to:\r",
    "- Clean, model and analyze data to create valuable insights for the client"
   ]
  },
  {
   "cell_type": "markdown",
   "id": "b002e778-85b7-41e9-a170-927985091fbd",
   "metadata": {},
   "source": [
    "## Data Exploration and Cleaning"
   ]
  },
  {
   "cell_type": "code",
   "execution_count": 1,
   "id": "cae25d89-7981-47ec-8808-6175f0852120",
   "metadata": {},
   "outputs": [],
   "source": [
    "import pandas as pd\n",
    "import matplotlib.pyplot as plt\n",
    "import seaborn as sns"
   ]
  },
  {
   "cell_type": "markdown",
   "id": "b9c78810-4529-4fd8-8dca-503f1c0076bc",
   "metadata": {},
   "source": [
    "### Load first csv file"
   ]
  },
  {
   "cell_type": "code",
   "execution_count": 2,
   "id": "92937968-9e3a-4c73-b2c0-1ee83a59fd1d",
   "metadata": {},
   "outputs": [
    {
     "data": {
      "text/html": [
       "<div>\n",
       "<style scoped>\n",
       "    .dataframe tbody tr th:only-of-type {\n",
       "        vertical-align: middle;\n",
       "    }\n",
       "\n",
       "    .dataframe tbody tr th {\n",
       "        vertical-align: top;\n",
       "    }\n",
       "\n",
       "    .dataframe thead th {\n",
       "        text-align: right;\n",
       "    }\n",
       "</style>\n",
       "<table border=\"1\" class=\"dataframe\">\n",
       "  <thead>\n",
       "    <tr style=\"text-align: right;\">\n",
       "      <th></th>\n",
       "      <th>Unnamed: 0</th>\n",
       "      <th>Content ID</th>\n",
       "      <th>User ID</th>\n",
       "      <th>Type</th>\n",
       "      <th>Category</th>\n",
       "      <th>URL</th>\n",
       "    </tr>\n",
       "  </thead>\n",
       "  <tbody>\n",
       "    <tr>\n",
       "      <th>0</th>\n",
       "      <td>0</td>\n",
       "      <td>97522e57-d9ab-4bd6-97bf-c24d952602d2</td>\n",
       "      <td>8d3cd87d-8a31-4935-9a4f-b319bfe05f31</td>\n",
       "      <td>photo</td>\n",
       "      <td>Studying</td>\n",
       "      <td>https://socialbuzz.cdn.com/content/storage/975...</td>\n",
       "    </tr>\n",
       "    <tr>\n",
       "      <th>1</th>\n",
       "      <td>1</td>\n",
       "      <td>9f737e0a-3cdd-4d29-9d24-753f4e3be810</td>\n",
       "      <td>beb1f34e-7870-46d6-9fc7-2e12eb83ce43</td>\n",
       "      <td>photo</td>\n",
       "      <td>healthy eating</td>\n",
       "      <td>https://socialbuzz.cdn.com/content/storage/9f7...</td>\n",
       "    </tr>\n",
       "    <tr>\n",
       "      <th>2</th>\n",
       "      <td>2</td>\n",
       "      <td>230c4e4d-70c3-461d-b42c-ec09396efb3f</td>\n",
       "      <td>a5c65404-5894-4b87-82f2-d787cbee86b4</td>\n",
       "      <td>photo</td>\n",
       "      <td>healthy eating</td>\n",
       "      <td>https://socialbuzz.cdn.com/content/storage/230...</td>\n",
       "    </tr>\n",
       "    <tr>\n",
       "      <th>3</th>\n",
       "      <td>3</td>\n",
       "      <td>356fff80-da4d-4785-9f43-bc1261031dc6</td>\n",
       "      <td>9fb4ce88-fac1-406c-8544-1a899cee7aaf</td>\n",
       "      <td>photo</td>\n",
       "      <td>technology</td>\n",
       "      <td>https://socialbuzz.cdn.com/content/storage/356...</td>\n",
       "    </tr>\n",
       "    <tr>\n",
       "      <th>4</th>\n",
       "      <td>4</td>\n",
       "      <td>01ab84dd-6364-4236-abbb-3f237db77180</td>\n",
       "      <td>e206e31b-5f85-4964-b6ea-d7ee5324def1</td>\n",
       "      <td>video</td>\n",
       "      <td>food</td>\n",
       "      <td>https://socialbuzz.cdn.com/content/storage/01a...</td>\n",
       "    </tr>\n",
       "  </tbody>\n",
       "</table>\n",
       "</div>"
      ],
      "text/plain": [
       "   Unnamed: 0                            Content ID  \\\n",
       "0           0  97522e57-d9ab-4bd6-97bf-c24d952602d2   \n",
       "1           1  9f737e0a-3cdd-4d29-9d24-753f4e3be810   \n",
       "2           2  230c4e4d-70c3-461d-b42c-ec09396efb3f   \n",
       "3           3  356fff80-da4d-4785-9f43-bc1261031dc6   \n",
       "4           4  01ab84dd-6364-4236-abbb-3f237db77180   \n",
       "\n",
       "                                User ID   Type        Category  \\\n",
       "0  8d3cd87d-8a31-4935-9a4f-b319bfe05f31  photo        Studying   \n",
       "1  beb1f34e-7870-46d6-9fc7-2e12eb83ce43  photo  healthy eating   \n",
       "2  a5c65404-5894-4b87-82f2-d787cbee86b4  photo  healthy eating   \n",
       "3  9fb4ce88-fac1-406c-8544-1a899cee7aaf  photo      technology   \n",
       "4  e206e31b-5f85-4964-b6ea-d7ee5324def1  video            food   \n",
       "\n",
       "                                                 URL  \n",
       "0  https://socialbuzz.cdn.com/content/storage/975...  \n",
       "1  https://socialbuzz.cdn.com/content/storage/9f7...  \n",
       "2  https://socialbuzz.cdn.com/content/storage/230...  \n",
       "3  https://socialbuzz.cdn.com/content/storage/356...  \n",
       "4  https://socialbuzz.cdn.com/content/storage/01a...  "
      ]
     },
     "execution_count": 2,
     "metadata": {},
     "output_type": "execute_result"
    }
   ],
   "source": [
    "content = pd.read_csv('data/Content.csv')\n",
    "content.head()"
   ]
  },
  {
   "cell_type": "code",
   "execution_count": 3,
   "id": "67886f92-ce33-41c6-a617-ef9c37144b5e",
   "metadata": {},
   "outputs": [
    {
     "data": {
      "text/plain": [
       "Category\n",
       "technology           71\n",
       "animals              67\n",
       "travel               67\n",
       "culture              63\n",
       "science              63\n",
       "fitness              61\n",
       "food                 61\n",
       "healthy eating       61\n",
       "cooking              60\n",
       "soccer               58\n",
       "tennis               58\n",
       "education            57\n",
       "dogs                 56\n",
       "studying             55\n",
       "veganism             48\n",
       "public speaking      48\n",
       "Fitness               5\n",
       "Animals               4\n",
       "Science               4\n",
       "\"soccer\"              3\n",
       "\"culture\"             3\n",
       "Soccer                3\n",
       "\"dogs\"                2\n",
       "Education             2\n",
       "Studying              2\n",
       "Travel                2\n",
       "Food                  2\n",
       "\"veganism\"            1\n",
       "\"public speaking\"     1\n",
       "Public Speaking       1\n",
       "\"technology\"          1\n",
       "\"cooking\"             1\n",
       "Healthy Eating        1\n",
       "\"studying\"            1\n",
       "\"food\"                1\n",
       "Culture               1\n",
       "\"tennis\"              1\n",
       "Technology            1\n",
       "\"animals\"             1\n",
       "Veganism              1\n",
       "\"science\"             1\n",
       "Name: count, dtype: int64"
      ]
     },
     "execution_count": 3,
     "metadata": {},
     "output_type": "execute_result"
    }
   ],
   "source": [
    "# Let's explore the target column\n",
    "content.Category.value_counts()"
   ]
  },
  {
   "cell_type": "markdown",
   "id": "547896f2-78f2-4832-8aa7-5e8666f4ffa0",
   "metadata": {},
   "source": [
    "As seen above, some entries are in capital letters, some in lower case and some are also in double quotation marks.\n",
    "\n",
    "We will clean this data for uniformity"
   ]
  },
  {
   "cell_type": "code",
   "execution_count": 4,
   "id": "236b68df-2e54-40f9-9a1c-3a2f81569580",
   "metadata": {},
   "outputs": [
    {
     "name": "stdout",
     "output_type": "stream",
     "text": [
      "<class 'pandas.core.frame.DataFrame'>\n",
      "RangeIndex: 1000 entries, 0 to 999\n",
      "Data columns (total 3 columns):\n",
      " #   Column       Non-Null Count  Dtype \n",
      "---  ------       --------------  ----- \n",
      " 0   Content ID   1000 non-null   object\n",
      " 1   ContentType  1000 non-null   object\n",
      " 2   Category     1000 non-null   object\n",
      "dtypes: object(3)\n",
      "memory usage: 23.6+ KB\n"
     ]
    }
   ],
   "source": [
    "# Drop unwanted columns\n",
    "content.drop(columns=[content.columns[0], 'User ID', 'URL'], axis=1, inplace=True)\n",
    "\n",
    "# Rename the Type column as ContentType\n",
    "content.rename(columns={'Type': 'ContentType'}, inplace=True)\n",
    "\n",
    "# Remove pdouble quotation marks and convert all entries to lower case in Category column \n",
    "content[\"Category\"] = content[\"Category\"].str.replace('\"', '').str.lower()\n",
    "content.info()"
   ]
  },
  {
   "cell_type": "code",
   "execution_count": 5,
   "id": "5457a0db-a1f1-42f5-9d9f-f0ab2a40395a",
   "metadata": {},
   "outputs": [
    {
     "data": {
      "text/html": [
       "<div>\n",
       "<style scoped>\n",
       "    .dataframe tbody tr th:only-of-type {\n",
       "        vertical-align: middle;\n",
       "    }\n",
       "\n",
       "    .dataframe tbody tr th {\n",
       "        vertical-align: top;\n",
       "    }\n",
       "\n",
       "    .dataframe thead th {\n",
       "        text-align: right;\n",
       "    }\n",
       "</style>\n",
       "<table border=\"1\" class=\"dataframe\">\n",
       "  <thead>\n",
       "    <tr style=\"text-align: right;\">\n",
       "      <th></th>\n",
       "      <th>Content ID</th>\n",
       "      <th>ContentType</th>\n",
       "      <th>Category</th>\n",
       "    </tr>\n",
       "  </thead>\n",
       "  <tbody>\n",
       "    <tr>\n",
       "      <th>0</th>\n",
       "      <td>97522e57-d9ab-4bd6-97bf-c24d952602d2</td>\n",
       "      <td>photo</td>\n",
       "      <td>studying</td>\n",
       "    </tr>\n",
       "    <tr>\n",
       "      <th>1</th>\n",
       "      <td>9f737e0a-3cdd-4d29-9d24-753f4e3be810</td>\n",
       "      <td>photo</td>\n",
       "      <td>healthy eating</td>\n",
       "    </tr>\n",
       "    <tr>\n",
       "      <th>2</th>\n",
       "      <td>230c4e4d-70c3-461d-b42c-ec09396efb3f</td>\n",
       "      <td>photo</td>\n",
       "      <td>healthy eating</td>\n",
       "    </tr>\n",
       "    <tr>\n",
       "      <th>3</th>\n",
       "      <td>356fff80-da4d-4785-9f43-bc1261031dc6</td>\n",
       "      <td>photo</td>\n",
       "      <td>technology</td>\n",
       "    </tr>\n",
       "    <tr>\n",
       "      <th>4</th>\n",
       "      <td>01ab84dd-6364-4236-abbb-3f237db77180</td>\n",
       "      <td>video</td>\n",
       "      <td>food</td>\n",
       "    </tr>\n",
       "  </tbody>\n",
       "</table>\n",
       "</div>"
      ],
      "text/plain": [
       "                             Content ID ContentType        Category\n",
       "0  97522e57-d9ab-4bd6-97bf-c24d952602d2       photo        studying\n",
       "1  9f737e0a-3cdd-4d29-9d24-753f4e3be810       photo  healthy eating\n",
       "2  230c4e4d-70c3-461d-b42c-ec09396efb3f       photo  healthy eating\n",
       "3  356fff80-da4d-4785-9f43-bc1261031dc6       photo      technology\n",
       "4  01ab84dd-6364-4236-abbb-3f237db77180       video            food"
      ]
     },
     "execution_count": 5,
     "metadata": {},
     "output_type": "execute_result"
    }
   ],
   "source": [
    "content.head()"
   ]
  },
  {
   "cell_type": "code",
   "execution_count": 6,
   "id": "c338b5a4-b582-4aa0-b962-5a489a39aff9",
   "metadata": {},
   "outputs": [
    {
     "data": {
      "text/plain": [
       "Category\n",
       "technology         73\n",
       "animals            72\n",
       "travel             69\n",
       "science            68\n",
       "culture            67\n",
       "fitness            66\n",
       "food               64\n",
       "soccer             64\n",
       "healthy eating     62\n",
       "cooking            61\n",
       "tennis             59\n",
       "education          59\n",
       "studying           58\n",
       "dogs               58\n",
       "public speaking    50\n",
       "veganism           50\n",
       "Name: count, dtype: int64"
      ]
     },
     "execution_count": 6,
     "metadata": {},
     "output_type": "execute_result"
    }
   ],
   "source": [
    "content.Category.value_counts()"
   ]
  },
  {
   "cell_type": "code",
   "execution_count": 7,
   "id": "69e2986e-aeb7-4f9d-813c-cdb6d2820292",
   "metadata": {},
   "outputs": [
    {
     "data": {
      "text/plain": [
       "Content ID     0\n",
       "ContentType    0\n",
       "Category       0\n",
       "dtype: int64"
      ]
     },
     "execution_count": 7,
     "metadata": {},
     "output_type": "execute_result"
    }
   ],
   "source": [
    "content.isnull().sum()"
   ]
  },
  {
   "cell_type": "markdown",
   "id": "7efe5873-aa44-4a0b-9ad2-6f0b43f6bf34",
   "metadata": {},
   "source": [
    "### Load second csv file "
   ]
  },
  {
   "cell_type": "code",
   "execution_count": 8,
   "id": "bcc66ffb-757f-4d33-b94a-3504c616f678",
   "metadata": {},
   "outputs": [
    {
     "data": {
      "text/html": [
       "<div>\n",
       "<style scoped>\n",
       "    .dataframe tbody tr th:only-of-type {\n",
       "        vertical-align: middle;\n",
       "    }\n",
       "\n",
       "    .dataframe tbody tr th {\n",
       "        vertical-align: top;\n",
       "    }\n",
       "\n",
       "    .dataframe thead th {\n",
       "        text-align: right;\n",
       "    }\n",
       "</style>\n",
       "<table border=\"1\" class=\"dataframe\">\n",
       "  <thead>\n",
       "    <tr style=\"text-align: right;\">\n",
       "      <th></th>\n",
       "      <th>Unnamed: 0</th>\n",
       "      <th>Content ID</th>\n",
       "      <th>User ID</th>\n",
       "      <th>Type</th>\n",
       "      <th>Datetime</th>\n",
       "    </tr>\n",
       "  </thead>\n",
       "  <tbody>\n",
       "    <tr>\n",
       "      <th>0</th>\n",
       "      <td>0</td>\n",
       "      <td>97522e57-d9ab-4bd6-97bf-c24d952602d2</td>\n",
       "      <td>NaN</td>\n",
       "      <td>NaN</td>\n",
       "      <td>2021-04-22 15:17:15</td>\n",
       "    </tr>\n",
       "    <tr>\n",
       "      <th>1</th>\n",
       "      <td>1</td>\n",
       "      <td>97522e57-d9ab-4bd6-97bf-c24d952602d2</td>\n",
       "      <td>5d454588-283d-459d-915d-c48a2cb4c27f</td>\n",
       "      <td>disgust</td>\n",
       "      <td>2020-11-07 09:43:50</td>\n",
       "    </tr>\n",
       "    <tr>\n",
       "      <th>2</th>\n",
       "      <td>2</td>\n",
       "      <td>97522e57-d9ab-4bd6-97bf-c24d952602d2</td>\n",
       "      <td>92b87fa5-f271-43e0-af66-84fac21052e6</td>\n",
       "      <td>dislike</td>\n",
       "      <td>2021-06-17 12:22:51</td>\n",
       "    </tr>\n",
       "    <tr>\n",
       "      <th>3</th>\n",
       "      <td>3</td>\n",
       "      <td>97522e57-d9ab-4bd6-97bf-c24d952602d2</td>\n",
       "      <td>163daa38-8b77-48c9-9af6-37a6c1447ac2</td>\n",
       "      <td>scared</td>\n",
       "      <td>2021-04-18 05:13:58</td>\n",
       "    </tr>\n",
       "    <tr>\n",
       "      <th>4</th>\n",
       "      <td>4</td>\n",
       "      <td>97522e57-d9ab-4bd6-97bf-c24d952602d2</td>\n",
       "      <td>34e8add9-0206-47fd-a501-037b994650a2</td>\n",
       "      <td>disgust</td>\n",
       "      <td>2021-01-06 19:13:01</td>\n",
       "    </tr>\n",
       "  </tbody>\n",
       "</table>\n",
       "</div>"
      ],
      "text/plain": [
       "   Unnamed: 0                            Content ID  \\\n",
       "0           0  97522e57-d9ab-4bd6-97bf-c24d952602d2   \n",
       "1           1  97522e57-d9ab-4bd6-97bf-c24d952602d2   \n",
       "2           2  97522e57-d9ab-4bd6-97bf-c24d952602d2   \n",
       "3           3  97522e57-d9ab-4bd6-97bf-c24d952602d2   \n",
       "4           4  97522e57-d9ab-4bd6-97bf-c24d952602d2   \n",
       "\n",
       "                                User ID     Type             Datetime  \n",
       "0                                   NaN      NaN  2021-04-22 15:17:15  \n",
       "1  5d454588-283d-459d-915d-c48a2cb4c27f  disgust  2020-11-07 09:43:50  \n",
       "2  92b87fa5-f271-43e0-af66-84fac21052e6  dislike  2021-06-17 12:22:51  \n",
       "3  163daa38-8b77-48c9-9af6-37a6c1447ac2   scared  2021-04-18 05:13:58  \n",
       "4  34e8add9-0206-47fd-a501-037b994650a2  disgust  2021-01-06 19:13:01  "
      ]
     },
     "execution_count": 8,
     "metadata": {},
     "output_type": "execute_result"
    }
   ],
   "source": [
    "reactions = pd.read_csv('data/Reactions.csv')\n",
    "reactions.head()"
   ]
  },
  {
   "cell_type": "code",
   "execution_count": 9,
   "id": "e7888060-1e53-46ab-86f9-962179148594",
   "metadata": {},
   "outputs": [
    {
     "name": "stdout",
     "output_type": "stream",
     "text": [
      "<class 'pandas.core.frame.DataFrame'>\n",
      "Index: 24573 entries, 1 to 25552\n",
      "Data columns (total 3 columns):\n",
      " #   Column        Non-Null Count  Dtype \n",
      "---  ------        --------------  ----- \n",
      " 0   Content ID    24573 non-null  object\n",
      " 1   ReactionType  24573 non-null  object\n",
      " 2   Datetime      24573 non-null  object\n",
      "dtypes: object(3)\n",
      "memory usage: 767.9+ KB\n"
     ]
    }
   ],
   "source": [
    "# Drop unwanted columns\n",
    "reactions.drop(columns=[reactions.columns[0], 'User ID'], axis=1, inplace=True)\n",
    "\n",
    "# Drop rows with missing values\n",
    "reactions.dropna(inplace=True)\n",
    "\n",
    "# Rename Type column to ReactionType\n",
    "reactions.rename(columns={'Type': 'ReactionType'}, inplace=True)\n",
    "\n",
    "reactions.info()"
   ]
  },
  {
   "cell_type": "code",
   "execution_count": 10,
   "id": "bdf77ba5-bacd-42b9-a0f8-42ffff9ece30",
   "metadata": {},
   "outputs": [
    {
     "data": {
      "text/html": [
       "<div>\n",
       "<style scoped>\n",
       "    .dataframe tbody tr th:only-of-type {\n",
       "        vertical-align: middle;\n",
       "    }\n",
       "\n",
       "    .dataframe tbody tr th {\n",
       "        vertical-align: top;\n",
       "    }\n",
       "\n",
       "    .dataframe thead th {\n",
       "        text-align: right;\n",
       "    }\n",
       "</style>\n",
       "<table border=\"1\" class=\"dataframe\">\n",
       "  <thead>\n",
       "    <tr style=\"text-align: right;\">\n",
       "      <th></th>\n",
       "      <th>Content ID</th>\n",
       "      <th>ReactionType</th>\n",
       "      <th>Datetime</th>\n",
       "    </tr>\n",
       "  </thead>\n",
       "  <tbody>\n",
       "    <tr>\n",
       "      <th>1</th>\n",
       "      <td>97522e57-d9ab-4bd6-97bf-c24d952602d2</td>\n",
       "      <td>disgust</td>\n",
       "      <td>2020-11-07 09:43:50</td>\n",
       "    </tr>\n",
       "    <tr>\n",
       "      <th>2</th>\n",
       "      <td>97522e57-d9ab-4bd6-97bf-c24d952602d2</td>\n",
       "      <td>dislike</td>\n",
       "      <td>2021-06-17 12:22:51</td>\n",
       "    </tr>\n",
       "    <tr>\n",
       "      <th>3</th>\n",
       "      <td>97522e57-d9ab-4bd6-97bf-c24d952602d2</td>\n",
       "      <td>scared</td>\n",
       "      <td>2021-04-18 05:13:58</td>\n",
       "    </tr>\n",
       "    <tr>\n",
       "      <th>4</th>\n",
       "      <td>97522e57-d9ab-4bd6-97bf-c24d952602d2</td>\n",
       "      <td>disgust</td>\n",
       "      <td>2021-01-06 19:13:01</td>\n",
       "    </tr>\n",
       "    <tr>\n",
       "      <th>5</th>\n",
       "      <td>97522e57-d9ab-4bd6-97bf-c24d952602d2</td>\n",
       "      <td>interested</td>\n",
       "      <td>2020-08-23 12:25:58</td>\n",
       "    </tr>\n",
       "  </tbody>\n",
       "</table>\n",
       "</div>"
      ],
      "text/plain": [
       "                             Content ID ReactionType             Datetime\n",
       "1  97522e57-d9ab-4bd6-97bf-c24d952602d2      disgust  2020-11-07 09:43:50\n",
       "2  97522e57-d9ab-4bd6-97bf-c24d952602d2      dislike  2021-06-17 12:22:51\n",
       "3  97522e57-d9ab-4bd6-97bf-c24d952602d2       scared  2021-04-18 05:13:58\n",
       "4  97522e57-d9ab-4bd6-97bf-c24d952602d2      disgust  2021-01-06 19:13:01\n",
       "5  97522e57-d9ab-4bd6-97bf-c24d952602d2   interested  2020-08-23 12:25:58"
      ]
     },
     "execution_count": 10,
     "metadata": {},
     "output_type": "execute_result"
    }
   ],
   "source": [
    "# Load first five rows of cleaned data\n",
    "reactions.head()"
   ]
  },
  {
   "cell_type": "code",
   "execution_count": 11,
   "id": "62a85412-c590-4203-9853-8d403c84511a",
   "metadata": {},
   "outputs": [
    {
     "data": {
      "text/plain": [
       "Content ID      0\n",
       "ReactionType    0\n",
       "Datetime        0\n",
       "dtype: int64"
      ]
     },
     "execution_count": 11,
     "metadata": {},
     "output_type": "execute_result"
    }
   ],
   "source": [
    "# Confirm there is no missing values in cleaned data\n",
    "reactions.isnull().sum()"
   ]
  },
  {
   "cell_type": "markdown",
   "id": "23da1541-4aea-4c5c-aac0-63f8324bcf62",
   "metadata": {},
   "source": [
    "### Load Third csv file"
   ]
  },
  {
   "cell_type": "code",
   "execution_count": 12,
   "id": "5d177525-0063-4d29-959d-3d4c2250f082",
   "metadata": {},
   "outputs": [
    {
     "data": {
      "text/html": [
       "<div>\n",
       "<style scoped>\n",
       "    .dataframe tbody tr th:only-of-type {\n",
       "        vertical-align: middle;\n",
       "    }\n",
       "\n",
       "    .dataframe tbody tr th {\n",
       "        vertical-align: top;\n",
       "    }\n",
       "\n",
       "    .dataframe thead th {\n",
       "        text-align: right;\n",
       "    }\n",
       "</style>\n",
       "<table border=\"1\" class=\"dataframe\">\n",
       "  <thead>\n",
       "    <tr style=\"text-align: right;\">\n",
       "      <th></th>\n",
       "      <th>Unnamed: 0</th>\n",
       "      <th>Type</th>\n",
       "      <th>Sentiment</th>\n",
       "      <th>Score</th>\n",
       "    </tr>\n",
       "  </thead>\n",
       "  <tbody>\n",
       "    <tr>\n",
       "      <th>0</th>\n",
       "      <td>0</td>\n",
       "      <td>heart</td>\n",
       "      <td>positive</td>\n",
       "      <td>60</td>\n",
       "    </tr>\n",
       "    <tr>\n",
       "      <th>1</th>\n",
       "      <td>1</td>\n",
       "      <td>want</td>\n",
       "      <td>positive</td>\n",
       "      <td>70</td>\n",
       "    </tr>\n",
       "    <tr>\n",
       "      <th>2</th>\n",
       "      <td>2</td>\n",
       "      <td>disgust</td>\n",
       "      <td>negative</td>\n",
       "      <td>0</td>\n",
       "    </tr>\n",
       "    <tr>\n",
       "      <th>3</th>\n",
       "      <td>3</td>\n",
       "      <td>hate</td>\n",
       "      <td>negative</td>\n",
       "      <td>5</td>\n",
       "    </tr>\n",
       "    <tr>\n",
       "      <th>4</th>\n",
       "      <td>4</td>\n",
       "      <td>interested</td>\n",
       "      <td>positive</td>\n",
       "      <td>30</td>\n",
       "    </tr>\n",
       "  </tbody>\n",
       "</table>\n",
       "</div>"
      ],
      "text/plain": [
       "   Unnamed: 0        Type Sentiment  Score\n",
       "0           0       heart  positive     60\n",
       "1           1        want  positive     70\n",
       "2           2     disgust  negative      0\n",
       "3           3        hate  negative      5\n",
       "4           4  interested  positive     30"
      ]
     },
     "execution_count": 12,
     "metadata": {},
     "output_type": "execute_result"
    }
   ],
   "source": [
    "reaction_types = pd.read_csv('data/ReactionTypes.csv')\n",
    "reaction_types.head()"
   ]
  },
  {
   "cell_type": "code",
   "execution_count": 13,
   "id": "0f87b461-fdb9-48e6-aec1-40138949e767",
   "metadata": {},
   "outputs": [
    {
     "name": "stdout",
     "output_type": "stream",
     "text": [
      "<class 'pandas.core.frame.DataFrame'>\n",
      "RangeIndex: 16 entries, 0 to 15\n",
      "Data columns (total 4 columns):\n",
      " #   Column      Non-Null Count  Dtype \n",
      "---  ------      --------------  ----- \n",
      " 0   Unnamed: 0  16 non-null     int64 \n",
      " 1   Type        16 non-null     object\n",
      " 2   Sentiment   16 non-null     object\n",
      " 3   Score       16 non-null     int64 \n",
      "dtypes: int64(2), object(2)\n",
      "memory usage: 644.0+ bytes\n"
     ]
    }
   ],
   "source": [
    "reaction_types.info()"
   ]
  },
  {
   "cell_type": "code",
   "execution_count": 14,
   "id": "1ebdcad6-34a4-438e-b643-1ccf1a70152a",
   "metadata": {},
   "outputs": [
    {
     "data": {
      "text/plain": [
       "Unnamed: 0    0\n",
       "Type          0\n",
       "Sentiment     0\n",
       "Score         0\n",
       "dtype: int64"
      ]
     },
     "execution_count": 14,
     "metadata": {},
     "output_type": "execute_result"
    }
   ],
   "source": [
    "# check for missing values\n",
    "reaction_types.isnull().sum()"
   ]
  },
  {
   "cell_type": "code",
   "execution_count": 15,
   "id": "43faf198-1038-46a5-a545-88bb0edb3181",
   "metadata": {},
   "outputs": [
    {
     "data": {
      "text/html": [
       "<div>\n",
       "<style scoped>\n",
       "    .dataframe tbody tr th:only-of-type {\n",
       "        vertical-align: middle;\n",
       "    }\n",
       "\n",
       "    .dataframe tbody tr th {\n",
       "        vertical-align: top;\n",
       "    }\n",
       "\n",
       "    .dataframe thead th {\n",
       "        text-align: right;\n",
       "    }\n",
       "</style>\n",
       "<table border=\"1\" class=\"dataframe\">\n",
       "  <thead>\n",
       "    <tr style=\"text-align: right;\">\n",
       "      <th></th>\n",
       "      <th>ReactionType</th>\n",
       "      <th>Sentiment</th>\n",
       "      <th>Score</th>\n",
       "    </tr>\n",
       "  </thead>\n",
       "  <tbody>\n",
       "    <tr>\n",
       "      <th>0</th>\n",
       "      <td>heart</td>\n",
       "      <td>positive</td>\n",
       "      <td>60</td>\n",
       "    </tr>\n",
       "    <tr>\n",
       "      <th>1</th>\n",
       "      <td>want</td>\n",
       "      <td>positive</td>\n",
       "      <td>70</td>\n",
       "    </tr>\n",
       "    <tr>\n",
       "      <th>2</th>\n",
       "      <td>disgust</td>\n",
       "      <td>negative</td>\n",
       "      <td>0</td>\n",
       "    </tr>\n",
       "    <tr>\n",
       "      <th>3</th>\n",
       "      <td>hate</td>\n",
       "      <td>negative</td>\n",
       "      <td>5</td>\n",
       "    </tr>\n",
       "    <tr>\n",
       "      <th>4</th>\n",
       "      <td>interested</td>\n",
       "      <td>positive</td>\n",
       "      <td>30</td>\n",
       "    </tr>\n",
       "  </tbody>\n",
       "</table>\n",
       "</div>"
      ],
      "text/plain": [
       "  ReactionType Sentiment  Score\n",
       "0        heart  positive     60\n",
       "1         want  positive     70\n",
       "2      disgust  negative      0\n",
       "3         hate  negative      5\n",
       "4   interested  positive     30"
      ]
     },
     "execution_count": 15,
     "metadata": {},
     "output_type": "execute_result"
    }
   ],
   "source": [
    "#Drop unwanted columns\n",
    "reaction_types.drop(columns=reaction_types.columns[0], inplace=True)\n",
    "\n",
    "# Rename Type column as ReactionType\n",
    "reaction_types.rename(columns={'Type': 'ReactionType'}, inplace=True)\n",
    "\n",
    "# load first five rows of cleaned data\n",
    "reaction_types.head()"
   ]
  },
  {
   "cell_type": "markdown",
   "id": "27b6f76b-6c7d-496a-9bfd-94c582c14d7e",
   "metadata": {},
   "source": [
    "## Data Modeling\n",
    "- Create a final data set by merging your three tables together"
   ]
  },
  {
   "cell_type": "code",
   "execution_count": 16,
   "id": "23f25a27-e315-4d2b-9ff4-72e47dc54906",
   "metadata": {},
   "outputs": [
    {
     "data": {
      "text/html": [
       "<div>\n",
       "<style scoped>\n",
       "    .dataframe tbody tr th:only-of-type {\n",
       "        vertical-align: middle;\n",
       "    }\n",
       "\n",
       "    .dataframe tbody tr th {\n",
       "        vertical-align: top;\n",
       "    }\n",
       "\n",
       "    .dataframe thead th {\n",
       "        text-align: right;\n",
       "    }\n",
       "</style>\n",
       "<table border=\"1\" class=\"dataframe\">\n",
       "  <thead>\n",
       "    <tr style=\"text-align: right;\">\n",
       "      <th></th>\n",
       "      <th>Content ID</th>\n",
       "      <th>ReactionType</th>\n",
       "      <th>Datetime</th>\n",
       "      <th>ContentType</th>\n",
       "      <th>Category</th>\n",
       "    </tr>\n",
       "  </thead>\n",
       "  <tbody>\n",
       "    <tr>\n",
       "      <th>0</th>\n",
       "      <td>97522e57-d9ab-4bd6-97bf-c24d952602d2</td>\n",
       "      <td>disgust</td>\n",
       "      <td>2020-11-07 09:43:50</td>\n",
       "      <td>photo</td>\n",
       "      <td>studying</td>\n",
       "    </tr>\n",
       "    <tr>\n",
       "      <th>1</th>\n",
       "      <td>97522e57-d9ab-4bd6-97bf-c24d952602d2</td>\n",
       "      <td>dislike</td>\n",
       "      <td>2021-06-17 12:22:51</td>\n",
       "      <td>photo</td>\n",
       "      <td>studying</td>\n",
       "    </tr>\n",
       "    <tr>\n",
       "      <th>2</th>\n",
       "      <td>97522e57-d9ab-4bd6-97bf-c24d952602d2</td>\n",
       "      <td>scared</td>\n",
       "      <td>2021-04-18 05:13:58</td>\n",
       "      <td>photo</td>\n",
       "      <td>studying</td>\n",
       "    </tr>\n",
       "    <tr>\n",
       "      <th>3</th>\n",
       "      <td>97522e57-d9ab-4bd6-97bf-c24d952602d2</td>\n",
       "      <td>disgust</td>\n",
       "      <td>2021-01-06 19:13:01</td>\n",
       "      <td>photo</td>\n",
       "      <td>studying</td>\n",
       "    </tr>\n",
       "    <tr>\n",
       "      <th>4</th>\n",
       "      <td>97522e57-d9ab-4bd6-97bf-c24d952602d2</td>\n",
       "      <td>interested</td>\n",
       "      <td>2020-08-23 12:25:58</td>\n",
       "      <td>photo</td>\n",
       "      <td>studying</td>\n",
       "    </tr>\n",
       "  </tbody>\n",
       "</table>\n",
       "</div>"
      ],
      "text/plain": [
       "                             Content ID ReactionType             Datetime  \\\n",
       "0  97522e57-d9ab-4bd6-97bf-c24d952602d2      disgust  2020-11-07 09:43:50   \n",
       "1  97522e57-d9ab-4bd6-97bf-c24d952602d2      dislike  2021-06-17 12:22:51   \n",
       "2  97522e57-d9ab-4bd6-97bf-c24d952602d2       scared  2021-04-18 05:13:58   \n",
       "3  97522e57-d9ab-4bd6-97bf-c24d952602d2      disgust  2021-01-06 19:13:01   \n",
       "4  97522e57-d9ab-4bd6-97bf-c24d952602d2   interested  2020-08-23 12:25:58   \n",
       "\n",
       "  ContentType  Category  \n",
       "0       photo  studying  \n",
       "1       photo  studying  \n",
       "2       photo  studying  \n",
       "3       photo  studying  \n",
       "4       photo  studying  "
      ]
     },
     "execution_count": 16,
     "metadata": {},
     "output_type": "execute_result"
    }
   ],
   "source": [
    "# Merge the reactions and content table\n",
    "df_merged = pd.merge(reactions, content, on='Content ID', how='inner')\n",
    "df_merged.head()"
   ]
  },
  {
   "cell_type": "code",
   "execution_count": 17,
   "id": "1dcbea3f-3da7-4c28-85a4-2a4cded984e2",
   "metadata": {},
   "outputs": [
    {
     "name": "stdout",
     "output_type": "stream",
     "text": [
      "<class 'pandas.core.frame.DataFrame'>\n",
      "RangeIndex: 24573 entries, 0 to 24572\n",
      "Data columns (total 5 columns):\n",
      " #   Column        Non-Null Count  Dtype \n",
      "---  ------        --------------  ----- \n",
      " 0   Content ID    24573 non-null  object\n",
      " 1   ReactionType  24573 non-null  object\n",
      " 2   Datetime      24573 non-null  object\n",
      " 3   ContentType   24573 non-null  object\n",
      " 4   Category      24573 non-null  object\n",
      "dtypes: object(5)\n",
      "memory usage: 960.0+ KB\n"
     ]
    }
   ],
   "source": [
    "df_merged.info()"
   ]
  },
  {
   "cell_type": "code",
   "execution_count": 18,
   "id": "dbba24ce-81f5-49d0-83bd-0bfba1cf2948",
   "metadata": {},
   "outputs": [],
   "source": [
    "# merge the resulting table (df_merged) with the reaction_types table\n",
    "df_final = pd.merge(df_merged, reaction_types, on='ReactionType', how='inner')"
   ]
  },
  {
   "cell_type": "markdown",
   "id": "26c48f21-0753-45ee-a346-96caed16a6fb",
   "metadata": {},
   "source": [
    "#### Create columns to extract Day and Month from datetime"
   ]
  },
  {
   "cell_type": "code",
   "execution_count": 19,
   "id": "04c6101d-04d8-40d5-bc66-5eebcf04442a",
   "metadata": {},
   "outputs": [],
   "source": [
    "# Convert 'Datetime' column to datetime format\n",
    "df_final['Datetime'] = pd.to_datetime(df_final['Datetime'])\n",
    "\n",
    "# Extract month from 'Datetime' column\n",
    "df_final['Month'] = df_final['Datetime'].dt.month_name()\n",
    "\n",
    "# Extract Day from 'Datetime' column\n",
    "df_final['Day'] = df_final['Datetime'].dt.strftime('%A')"
   ]
  },
  {
   "cell_type": "code",
   "execution_count": 20,
   "id": "a3dac7cb-3c9f-4f60-abba-db19a48f6c86",
   "metadata": {},
   "outputs": [
    {
     "data": {
      "text/html": [
       "<div>\n",
       "<style scoped>\n",
       "    .dataframe tbody tr th:only-of-type {\n",
       "        vertical-align: middle;\n",
       "    }\n",
       "\n",
       "    .dataframe tbody tr th {\n",
       "        vertical-align: top;\n",
       "    }\n",
       "\n",
       "    .dataframe thead th {\n",
       "        text-align: right;\n",
       "    }\n",
       "</style>\n",
       "<table border=\"1\" class=\"dataframe\">\n",
       "  <thead>\n",
       "    <tr style=\"text-align: right;\">\n",
       "      <th></th>\n",
       "      <th>Content ID</th>\n",
       "      <th>ReactionType</th>\n",
       "      <th>Datetime</th>\n",
       "      <th>ContentType</th>\n",
       "      <th>Category</th>\n",
       "      <th>Sentiment</th>\n",
       "      <th>Score</th>\n",
       "      <th>Month</th>\n",
       "      <th>Day</th>\n",
       "    </tr>\n",
       "  </thead>\n",
       "  <tbody>\n",
       "    <tr>\n",
       "      <th>0</th>\n",
       "      <td>97522e57-d9ab-4bd6-97bf-c24d952602d2</td>\n",
       "      <td>disgust</td>\n",
       "      <td>2020-11-07 09:43:50</td>\n",
       "      <td>photo</td>\n",
       "      <td>studying</td>\n",
       "      <td>negative</td>\n",
       "      <td>0</td>\n",
       "      <td>November</td>\n",
       "      <td>Saturday</td>\n",
       "    </tr>\n",
       "    <tr>\n",
       "      <th>1</th>\n",
       "      <td>97522e57-d9ab-4bd6-97bf-c24d952602d2</td>\n",
       "      <td>disgust</td>\n",
       "      <td>2021-01-06 19:13:01</td>\n",
       "      <td>photo</td>\n",
       "      <td>studying</td>\n",
       "      <td>negative</td>\n",
       "      <td>0</td>\n",
       "      <td>January</td>\n",
       "      <td>Wednesday</td>\n",
       "    </tr>\n",
       "    <tr>\n",
       "      <th>2</th>\n",
       "      <td>97522e57-d9ab-4bd6-97bf-c24d952602d2</td>\n",
       "      <td>disgust</td>\n",
       "      <td>2021-04-09 02:46:20</td>\n",
       "      <td>photo</td>\n",
       "      <td>studying</td>\n",
       "      <td>negative</td>\n",
       "      <td>0</td>\n",
       "      <td>April</td>\n",
       "      <td>Friday</td>\n",
       "    </tr>\n",
       "    <tr>\n",
       "      <th>3</th>\n",
       "      <td>9f737e0a-3cdd-4d29-9d24-753f4e3be810</td>\n",
       "      <td>disgust</td>\n",
       "      <td>2021-03-28 21:15:26</td>\n",
       "      <td>photo</td>\n",
       "      <td>healthy eating</td>\n",
       "      <td>negative</td>\n",
       "      <td>0</td>\n",
       "      <td>March</td>\n",
       "      <td>Sunday</td>\n",
       "    </tr>\n",
       "    <tr>\n",
       "      <th>4</th>\n",
       "      <td>230c4e4d-70c3-461d-b42c-ec09396efb3f</td>\n",
       "      <td>disgust</td>\n",
       "      <td>2020-08-04 05:40:33</td>\n",
       "      <td>photo</td>\n",
       "      <td>healthy eating</td>\n",
       "      <td>negative</td>\n",
       "      <td>0</td>\n",
       "      <td>August</td>\n",
       "      <td>Tuesday</td>\n",
       "    </tr>\n",
       "  </tbody>\n",
       "</table>\n",
       "</div>"
      ],
      "text/plain": [
       "                             Content ID ReactionType            Datetime  \\\n",
       "0  97522e57-d9ab-4bd6-97bf-c24d952602d2      disgust 2020-11-07 09:43:50   \n",
       "1  97522e57-d9ab-4bd6-97bf-c24d952602d2      disgust 2021-01-06 19:13:01   \n",
       "2  97522e57-d9ab-4bd6-97bf-c24d952602d2      disgust 2021-04-09 02:46:20   \n",
       "3  9f737e0a-3cdd-4d29-9d24-753f4e3be810      disgust 2021-03-28 21:15:26   \n",
       "4  230c4e4d-70c3-461d-b42c-ec09396efb3f      disgust 2020-08-04 05:40:33   \n",
       "\n",
       "  ContentType        Category Sentiment  Score     Month        Day  \n",
       "0       photo        studying  negative      0  November   Saturday  \n",
       "1       photo        studying  negative      0   January  Wednesday  \n",
       "2       photo        studying  negative      0     April     Friday  \n",
       "3       photo  healthy eating  negative      0     March     Sunday  \n",
       "4       photo  healthy eating  negative      0    August    Tuesday  "
      ]
     },
     "execution_count": 20,
     "metadata": {},
     "output_type": "execute_result"
    }
   ],
   "source": [
    "df_final.head()"
   ]
  },
  {
   "cell_type": "markdown",
   "id": "cbd36766-9cb8-4093-9964-80a826e35c69",
   "metadata": {},
   "source": [
    "#### Save cleaned and modelled file"
   ]
  },
  {
   "cell_type": "code",
   "execution_count": 21,
   "id": "00b13878-709f-41de-8bad-bebcfa48f664",
   "metadata": {},
   "outputs": [],
   "source": [
    "# Save the Cleaned and modeled file\n",
    "df_final.to_csv(\"data/final_data_file.csv\", index=False)"
   ]
  },
  {
   "cell_type": "markdown",
   "id": "68223491-c401-4a42-a95a-b35d888719ab",
   "metadata": {},
   "source": [
    "## Data Analysis and Visualizations"
   ]
  },
  {
   "cell_type": "markdown",
   "id": "0d518991-683d-4fbf-8261-e4b07c521941",
   "metadata": {},
   "source": [
    "#### Check unique values for Categories, Content types and reaction types"
   ]
  },
  {
   "cell_type": "code",
   "execution_count": 22,
   "id": "e13f1669-23bf-49d3-b632-732c1828b802",
   "metadata": {},
   "outputs": [
    {
     "name": "stdout",
     "output_type": "stream",
     "text": [
      "Categories:  16\n",
      "Content Types:  4\n",
      "Reaction Types:  16\n"
     ]
    }
   ],
   "source": [
    "print('Categories: ', df_final.Category.nunique())\n",
    "print('Content Types: ', df_final.ContentType.nunique())\n",
    "print('Reaction Types: ', df_final.ReactionType.nunique())"
   ]
  },
  {
   "cell_type": "markdown",
   "id": "af95c4ec-4bfd-4484-b670-9320543e1ca0",
   "metadata": {},
   "source": [
    "The modeled data has 16 different content categories, 4 content types and 16 reaction types"
   ]
  },
  {
   "cell_type": "markdown",
   "id": "2579ab23-f940-4c55-a063-82727c916a18",
   "metadata": {},
   "source": [
    "#### Create Data of Top 5 performing categories"
   ]
  },
  {
   "cell_type": "code",
   "execution_count": 23,
   "id": "7999db2a-e923-4d8b-b21f-c194073b2b92",
   "metadata": {},
   "outputs": [
    {
     "data": {
      "text/plain": [
       "Category\n",
       "animals           74965\n",
       "science           71168\n",
       "healthy eating    69339\n",
       "technology        68738\n",
       "food              66676\n",
       "Name: Score, dtype: int64"
      ]
     },
     "execution_count": 23,
     "metadata": {},
     "output_type": "execute_result"
    }
   ],
   "source": [
    "# Get a sum value of the scores for each category\n",
    "category_totals = df_final.groupby('Category')['Score'].sum()\n",
    "sorted_categories = category_totals.sort_values(ascending=False)\n",
    "top_5_categories = sorted_categories.head()\n",
    "top_5_categories"
   ]
  },
  {
   "cell_type": "code",
   "execution_count": 24,
   "id": "d82578c5-d8ec-416f-8b48-c3edef4c13e9",
   "metadata": {},
   "outputs": [
    {
     "data": {
      "image/png": "[encoded data removed]",
      "text/plain": [
       "<Figure size 1000x600 with 1 Axes>"
      ]
     },
     "metadata": {},
     "output_type": "display_data"
    }
   ],
   "source": [
    "# Create the bar chart for categories\n",
    "fig, ax = plt.subplots(figsize=(10, 6))\n",
    "palette = ['blue' if Category in sorted_categories.head(5).index else 'gray' for Category in sorted_categories.index]\n",
    "sns.barplot(x=sorted_categories.index, y=sorted_categories.values, hue=sorted_categories.index, palette=palette)\n",
    "ax.tick_params(axis='x', labelrotation=90)\n",
    "# add labels, titles, and other customizations\n",
    "plt.ylabel('Aggregate \"Popularity\" Score')\n",
    "plt.xlabel('Categories')\n",
    "plt.title('Top 5 Content Categories by Aggregate \"Popularity\" Score in Blue, Others in Gray')\n",
    "plt.show()"
   ]
  },
  {
   "cell_type": "markdown",
   "id": "509c1cc4-86e2-4d08-a029-7597afe02e8e",
   "metadata": {},
   "source": [
    "From above result we can see that The top five categories with the highest scores are animals, science, healthy eating, technology and food, accordingly"
   ]
  },
  {
   "cell_type": "code",
   "execution_count": 25,
   "id": "8527320d-449b-4866-88f3-f2e77b41cc52",
   "metadata": {},
   "outputs": [
    {
     "data": {
      "text/html": [
       "<div>\n",
       "<style scoped>\n",
       "    .dataframe tbody tr th:only-of-type {\n",
       "        vertical-align: middle;\n",
       "    }\n",
       "\n",
       "    .dataframe tbody tr th {\n",
       "        vertical-align: top;\n",
       "    }\n",
       "\n",
       "    .dataframe thead th {\n",
       "        text-align: right;\n",
       "    }\n",
       "</style>\n",
       "<table border=\"1\" class=\"dataframe\">\n",
       "  <thead>\n",
       "    <tr style=\"text-align: right;\">\n",
       "      <th></th>\n",
       "      <th>Content ID</th>\n",
       "      <th>ReactionType</th>\n",
       "      <th>Datetime</th>\n",
       "      <th>ContentType</th>\n",
       "      <th>Category</th>\n",
       "      <th>Sentiment</th>\n",
       "      <th>Score</th>\n",
       "      <th>Month</th>\n",
       "      <th>Day</th>\n",
       "    </tr>\n",
       "  </thead>\n",
       "  <tbody>\n",
       "    <tr>\n",
       "      <th>3</th>\n",
       "      <td>9f737e0a-3cdd-4d29-9d24-753f4e3be810</td>\n",
       "      <td>disgust</td>\n",
       "      <td>2021-03-28 21:15:26</td>\n",
       "      <td>photo</td>\n",
       "      <td>healthy eating</td>\n",
       "      <td>negative</td>\n",
       "      <td>0</td>\n",
       "      <td>March</td>\n",
       "      <td>Sunday</td>\n",
       "    </tr>\n",
       "    <tr>\n",
       "      <th>4</th>\n",
       "      <td>230c4e4d-70c3-461d-b42c-ec09396efb3f</td>\n",
       "      <td>disgust</td>\n",
       "      <td>2020-08-04 05:40:33</td>\n",
       "      <td>photo</td>\n",
       "      <td>healthy eating</td>\n",
       "      <td>negative</td>\n",
       "      <td>0</td>\n",
       "      <td>August</td>\n",
       "      <td>Tuesday</td>\n",
       "    </tr>\n",
       "    <tr>\n",
       "      <th>10</th>\n",
       "      <td>5118e9c5-1377-4cc5-a486-65b35b7b7b76</td>\n",
       "      <td>disgust</td>\n",
       "      <td>2020-11-07 08:49:52</td>\n",
       "      <td>GIF</td>\n",
       "      <td>science</td>\n",
       "      <td>negative</td>\n",
       "      <td>0</td>\n",
       "      <td>November</td>\n",
       "      <td>Saturday</td>\n",
       "    </tr>\n",
       "    <tr>\n",
       "      <th>15</th>\n",
       "      <td>81abd65a-3b76-4574-a0a7-db6bf7184ae2</td>\n",
       "      <td>disgust</td>\n",
       "      <td>2020-12-08 13:12:56</td>\n",
       "      <td>video</td>\n",
       "      <td>food</td>\n",
       "      <td>negative</td>\n",
       "      <td>0</td>\n",
       "      <td>December</td>\n",
       "      <td>Tuesday</td>\n",
       "    </tr>\n",
       "    <tr>\n",
       "      <th>16</th>\n",
       "      <td>81abd65a-3b76-4574-a0a7-db6bf7184ae2</td>\n",
       "      <td>disgust</td>\n",
       "      <td>2021-01-05 13:15:46</td>\n",
       "      <td>video</td>\n",
       "      <td>food</td>\n",
       "      <td>negative</td>\n",
       "      <td>0</td>\n",
       "      <td>January</td>\n",
       "      <td>Tuesday</td>\n",
       "    </tr>\n",
       "  </tbody>\n",
       "</table>\n",
       "</div>"
      ],
      "text/plain": [
       "                              Content ID ReactionType            Datetime  \\\n",
       "3   9f737e0a-3cdd-4d29-9d24-753f4e3be810      disgust 2021-03-28 21:15:26   \n",
       "4   230c4e4d-70c3-461d-b42c-ec09396efb3f      disgust 2020-08-04 05:40:33   \n",
       "10  5118e9c5-1377-4cc5-a486-65b35b7b7b76      disgust 2020-11-07 08:49:52   \n",
       "15  81abd65a-3b76-4574-a0a7-db6bf7184ae2      disgust 2020-12-08 13:12:56   \n",
       "16  81abd65a-3b76-4574-a0a7-db6bf7184ae2      disgust 2021-01-05 13:15:46   \n",
       "\n",
       "   ContentType        Category Sentiment  Score     Month       Day  \n",
       "3        photo  healthy eating  negative      0     March    Sunday  \n",
       "4        photo  healthy eating  negative      0    August   Tuesday  \n",
       "10         GIF         science  negative      0  November  Saturday  \n",
       "15       video            food  negative      0  December   Tuesday  \n",
       "16       video            food  negative      0   January   Tuesday  "
      ]
     },
     "execution_count": 25,
     "metadata": {},
     "output_type": "execute_result"
    }
   ],
   "source": [
    "## Create DataFrame of Top 5 categories\n",
    "top_5_df = df_final[df_final['Category'].isin(top_5_categories.index)]\n",
    "top_5_df.head()"
   ]
  },
  {
   "cell_type": "code",
   "execution_count": 26,
   "id": "c8bb9bcd-7aa1-4d6d-9f74-7bc0721f91b3",
   "metadata": {},
   "outputs": [
    {
     "name": "stdout",
     "output_type": "stream",
     "text": [
      "<class 'pandas.core.frame.DataFrame'>\n",
      "Index: 8807 entries, 3 to 24565\n",
      "Data columns (total 9 columns):\n",
      " #   Column        Non-Null Count  Dtype         \n",
      "---  ------        --------------  -----         \n",
      " 0   Content ID    8807 non-null   object        \n",
      " 1   ReactionType  8807 non-null   object        \n",
      " 2   Datetime      8807 non-null   datetime64[ns]\n",
      " 3   ContentType   8807 non-null   object        \n",
      " 4   Category      8807 non-null   object        \n",
      " 5   Sentiment     8807 non-null   object        \n",
      " 6   Score         8807 non-null   int64         \n",
      " 7   Month         8807 non-null   object        \n",
      " 8   Day           8807 non-null   object        \n",
      "dtypes: datetime64[ns](1), int64(1), object(7)\n",
      "memory usage: 688.0+ KB\n"
     ]
    }
   ],
   "source": [
    "top_5_df.info()"
   ]
  },
  {
   "cell_type": "code",
   "execution_count": 27,
   "id": "16dfa8e9-b0ac-43ab-b0a0-0cb670ce62cc",
   "metadata": {},
   "outputs": [
    {
     "data": {
      "image/png": "[encoded data removed]",
      "text/plain": [
       "<Figure size 640x480 with 1 Axes>"
      ]
     },
     "metadata": {},
     "output_type": "display_data"
    }
   ],
   "source": [
    "# Create the pie chart for Top 5 categories\n",
    "explode = (0.1, 0, 0, 0, 0)\n",
    "plt.pie(x=top_5_categories,  labels=top_5_categories.index, autopct='%1.1f%%', shadow=True, explode=explode, startangle=90)\n",
    "plt.title('Popularity Percentage share from top 5 content categories');\n",
    "plt.legend(loc=\"center left\", bbox_to_anchor=(1.2, 0, 0.5, 1))\n",
    "plt.show()"
   ]
  },
  {
   "cell_type": "markdown",
   "id": "8f0cfd3c-281d-4dfd-bf0e-c3433ababe5e",
   "metadata": {},
   "source": [
    "#### Most Popular Content Category"
   ]
  },
  {
   "cell_type": "code",
   "execution_count": 28,
   "id": "cc07795b-bba6-4b8d-be32-b4fb9dbeeec9",
   "metadata": {},
   "outputs": [
    {
     "name": "stdout",
     "output_type": "stream",
     "text": [
      "The Most popular content category is animals\n"
     ]
    }
   ],
   "source": [
    "# Find the most popular category\n",
    "most_popular_category = top_5_df.groupby('Category')['Score'].sum().idxmax()\n",
    "\n",
    "print(f'The Most popular content category is {most_popular_category}')"
   ]
  },
  {
   "cell_type": "code",
   "execution_count": 29,
   "id": "841a2b43-87df-4884-a3e7-73988c54de99",
   "metadata": {},
   "outputs": [
    {
     "name": "stdout",
     "output_type": "stream",
     "text": [
      "The most popular reaction type to animals posts is super love\n"
     ]
    }
   ],
   "source": [
    "# Filter data to create a subset for the most popular category \n",
    "popular_category_data = top_5_df[top_5_df['Category'] == most_popular_category]\n",
    "\n",
    "# Calculate total reactions for most popular category \n",
    "most_popular_reaction = popular_category_data.groupby('ReactionType')['Score'].sum().idxmax()\n",
    "print(f'The most popular reaction type to {most_popular_category} posts is {most_popular_reaction}')\n"
   ]
  },
  {
   "cell_type": "code",
   "execution_count": 30,
   "id": "8f094a43-0464-4acb-a1d4-5551ead30e53",
   "metadata": {},
   "outputs": [
    {
     "data": {
      "image/png": "[encoded data removed]",
      "text/plain": [
       "<Figure size 1000x600 with 1 Axes>"
      ]
     },
     "metadata": {},
     "output_type": "display_data"
    }
   ],
   "source": [
    "# Calculate total reactions for each reaction type\n",
    "reactions_by_type = popular_category_data.groupby('ReactionType')['Score'].sum()\n",
    "\n",
    "# Create a bar chart with ordered bars\n",
    "fig, ax = plt.subplots(figsize=(10, 6))\n",
    "sns.barplot(\n",
    "            x=reactions_by_type.index, \n",
    "            y=reactions_by_type.values, \n",
    "            order=reactions_by_type.sort_values(ascending=False).index,\n",
    "            ax=ax\n",
    "        )\n",
    "ax.tick_params(axis='x', labelrotation=90)\n",
    "plt.xlabel('Reaction Type')\n",
    "plt.ylabel('Total Reactions')\n",
    "plt.title(f'Reaction types in {most_popular_category} category by popularity score')\n",
    "plt.show()"
   ]
  },
  {
   "cell_type": "code",
   "execution_count": 31,
   "id": "63eeecc9-21cf-4c4e-a07c-256eddee7bad",
   "metadata": {},
   "outputs": [
    {
     "name": "stdout",
     "output_type": "stream",
     "text": [
      "The Total Reactions to animals posts is 1897\n"
     ]
    }
   ],
   "source": [
    "total_reaction = (popular_category_data.ReactionType.value_counts()).sum()\n",
    "total_reaction\n",
    "print(f'The Total Reactions to {most_popular_category} posts is {total_reaction}')"
   ]
  },
  {
   "cell_type": "markdown",
   "id": "ca4038a8-0d36-4ae2-b652-8cb5b2007fc7",
   "metadata": {},
   "source": [
    "#### The Month with the Most Posts"
   ]
  },
  {
   "cell_type": "code",
   "execution_count": 32,
   "id": "3a7c9a52-0edb-434f-a4ef-a6c6c5ae20a2",
   "metadata": {},
   "outputs": [
    {
     "data": {
      "text/html": [
       "<div>\n",
       "<style scoped>\n",
       "    .dataframe tbody tr th:only-of-type {\n",
       "        vertical-align: middle;\n",
       "    }\n",
       "\n",
       "    .dataframe tbody tr th {\n",
       "        vertical-align: top;\n",
       "    }\n",
       "\n",
       "    .dataframe thead th {\n",
       "        text-align: right;\n",
       "    }\n",
       "</style>\n",
       "<table border=\"1\" class=\"dataframe\">\n",
       "  <thead>\n",
       "    <tr style=\"text-align: right;\">\n",
       "      <th></th>\n",
       "      <th>Month</th>\n",
       "      <th>Value</th>\n",
       "    </tr>\n",
       "  </thead>\n",
       "  <tbody>\n",
       "    <tr>\n",
       "      <th>0</th>\n",
       "      <td>January</td>\n",
       "      <td>2126</td>\n",
       "    </tr>\n",
       "    <tr>\n",
       "      <th>1</th>\n",
       "      <td>February</td>\n",
       "      <td>1914</td>\n",
       "    </tr>\n",
       "    <tr>\n",
       "      <th>2</th>\n",
       "      <td>March</td>\n",
       "      <td>2012</td>\n",
       "    </tr>\n",
       "    <tr>\n",
       "      <th>3</th>\n",
       "      <td>April</td>\n",
       "      <td>1974</td>\n",
       "    </tr>\n",
       "    <tr>\n",
       "      <th>4</th>\n",
       "      <td>May</td>\n",
       "      <td>2138</td>\n",
       "    </tr>\n",
       "  </tbody>\n",
       "</table>\n",
       "</div>"
      ],
      "text/plain": [
       "      Month  Value\n",
       "0   January   2126\n",
       "1  February   1914\n",
       "2     March   2012\n",
       "3     April   1974\n",
       "4       May   2138"
      ]
     },
     "execution_count": 32,
     "metadata": {},
     "output_type": "execute_result"
    }
   ],
   "source": [
    "posts_per_month = df_final[\"Month\"].value_counts().sort_values(ascending=False)\n",
    "posts_per_month_reordered = posts_per_month.reindex(\n",
    "    ['January', 'February', 'March', \n",
    "     'April', 'May', 'June', \n",
    "     'July', 'August', 'September', \n",
    "     'October', 'November', 'December']\n",
    ").reset_index()\n",
    "posts_per_month_reordered.columns = ['Month', 'Value']\n",
    "posts_per_month_reordered.head()"
   ]
  },
  {
   "cell_type": "code",
   "execution_count": 33,
   "id": "87315d62-f134-4df6-9ac9-d69dabe0d0ed",
   "metadata": {},
   "outputs": [
    {
     "data": {
      "image/png": "[encoded data removed]",
      "text/plain": [
       "<Figure size 1000x600 with 1 Axes>"
      ]
     },
     "metadata": {},
     "output_type": "display_data"
    }
   ],
   "source": [
    "# Create a bar plot\n",
    "fig, ax = plt.subplots(figsize=(10, 6))\n",
    "palette = ['blue' if month in posts_per_month.head(1).index else 'gray' for month in posts_per_month_reordered['Month'].values]\n",
    "sns.barplot(data=posts_per_month_reordered, x='Month', y='Value', ax=ax, palette=palette, hue='Month')\n",
    "ax.tick_params(axis='x', labelrotation=90)\n",
    "plt.xlabel('Month')\n",
    "plt.ylabel('Number of Posts')\n",
    "plt.title('The month of May has the highest Number of Posts');\n",
    "plt.show()"
   ]
  },
  {
   "cell_type": "code",
   "execution_count": 34,
   "id": "6fd8de15-a832-4813-9a08-de867ee7f19a",
   "metadata": {},
   "outputs": [
    {
     "name": "stdout",
     "output_type": "stream",
     "text": [
      "The Month with the most posts is May\n"
     ]
    }
   ],
   "source": [
    "print(f'The Month with the most posts is {posts_per_month.index[0]}')"
   ]
  },
  {
   "cell_type": "markdown",
   "id": "456c7b14-9d12-45fa-8e72-fe713e4caef2",
   "metadata": {},
   "source": [
    "#### The Day of the Week with the Most Posts"
   ]
  },
  {
   "cell_type": "code",
   "execution_count": 35,
   "id": "925aa4fb-1495-427c-8702-8756109c809b",
   "metadata": {},
   "outputs": [
    {
     "data": {
      "text/plain": [
       "Day\n",
       "Sunday       3529\n",
       "Monday       3581\n",
       "Tuesday      3534\n",
       "Wednesday    3465\n",
       "Thursday     3516\n",
       "Friday       3552\n",
       "Saturday     3396\n",
       "Name: count, dtype: int64"
      ]
     },
     "execution_count": 35,
     "metadata": {},
     "output_type": "execute_result"
    }
   ],
   "source": [
    "day_of_week = df_final[\"Day\"].value_counts().sort_values(ascending=False)\n",
    "day_of_week_reordered = day_of_week.reindex(['Sunday', 'Monday', 'Tuesday', 'Wednesday', 'Thursday', 'Friday', 'Saturday'])\n",
    "day_of_week_reordered"
   ]
  },
  {
   "cell_type": "code",
   "execution_count": 36,
   "id": "a51ef7a8-0f16-4563-9cc6-026051ba64c7",
   "metadata": {},
   "outputs": [
    {
     "data": {
      "image/png": "[encoded data removed]",
      "text/plain": [
       "<Figure size 1000x600 with 1 Axes>"
      ]
     },
     "metadata": {},
     "output_type": "display_data"
    }
   ],
   "source": [
    "# Create a bar plot\n",
    "fig, ax = plt.subplots(figsize=(10, 6))\n",
    "palette = ['blue' if day in day_of_week.head(1).index else 'gray' for day in day_of_week_reordered.index]\n",
    "sns.barplot(x=day_of_week_reordered.index, y=day_of_week_reordered.values, ax=ax, palette=palette, hue=day_of_week_reordered.index)\n",
    "ax.tick_params(axis='x', labelrotation=90)\n",
    "plt.xlabel('Day')\n",
    "plt.ylabel('Number of Posts')\n",
    "plt.title('Most posts were made on Mondays');\n",
    "plt.show()"
   ]
  },
  {
   "cell_type": "code",
   "execution_count": 37,
   "id": "f2610686-c41b-46c9-ae92-67256acde0c0",
   "metadata": {},
   "outputs": [
    {
     "data": {
      "image/png": "[encoded data removed]",
      "text/plain": [
       "<Figure size 1000x600 with 1 Axes>"
      ]
     },
     "metadata": {},
     "output_type": "display_data"
    }
   ],
   "source": [
    "fig, ax = plt.subplots(figsize=(10, 6))\n",
    "sns.countplot(df_final, x='ContentType', ax=ax)\n",
    "# add labels, titles, and other customizations\n",
    "plt.ylabel('Count')\n",
    "plt.xlabel('Content Type')\n",
    "plt.title('Value Count of Content Types in Posts')\n",
    "plt.show()"
   ]
  },
  {
   "cell_type": "code",
   "execution_count": 38,
   "id": "2d101bde-62cb-4bf8-9b6b-3a9ae5c34ab4",
   "metadata": {},
   "outputs": [
    {
     "data": {
      "image/png": "[encoded data removed]",
      "text/plain": [
       "<Figure size 1000x600 with 1 Axes>"
      ]
     },
     "metadata": {},
     "output_type": "display_data"
    }
   ],
   "source": [
    "# Calculate total content for each content type\n",
    "content_by_type = popular_category_data.groupby('ContentType')['Score'].sum()\n",
    "\n",
    "# Create a bar chart with ordered bars\n",
    "fig, ax = plt.subplots(figsize=(10, 6))\n",
    "sns.barplot(x=content_by_type.index, y=content_by_type.values, order=content_by_type.sort_values(ascending=False).index, ax=ax)\n",
    "ax.tick_params(axis='x', labelrotation=90)\n",
    "plt.xlabel('Content Type')\n",
    "plt.ylabel('Total Contents')\n",
    "plt.title(f'The content types in {most_popular_category} category by popularity score')\n",
    "plt.show()"
   ]
  },
  {
   "cell_type": "markdown",
   "id": "f2062086-f2fe-4a48-ac53-6a009245942a",
   "metadata": {},
   "source": [
    "### Summary\n",
    "- Animals and Science are the two most popular content categories, showing that people enjoy contents centred around \"life\" and \"knowledge\" the most.\n",
    "- Users reacted most to contents posted on Mondays and in the month of May. This may give insight into the particular posts that interested them the most and be used to improve on contents posted, to increase user engagement. "
   ]
  }
 ],
 "metadata": {
  "kernelspec": {
   "display_name": "Python 3 (ipykernel)",
   "language": "python",
   "name": "python3"
  },
  "language_info": {
   "codemirror_mode": {
    "name": "ipython",
    "version": 3
   },
   "file_extension": ".py",
   "mimetype": "text/x-python",
   "name": "python",
   "nbconvert_exporter": "python",
   "pygments_lexer": "ipython3",
   "version": "3.11.5"
  }
 },
 "nbformat": 4,
 "nbformat_minor": 5
}
